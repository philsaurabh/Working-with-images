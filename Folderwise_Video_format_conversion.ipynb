{
  "nbformat": 4,
  "nbformat_minor": 0,
  "metadata": {
    "colab": {
      "name": "Folderwise Video format conversion.ipynb",
      "provenance": [],
      "authorship_tag": "ABX9TyMW93iaIC3a00ffDrxs5UM+",
      "include_colab_link": true
    },
    "kernelspec": {
      "name": "python3",
      "display_name": "Python 3"
    },
    "language_info": {
      "name": "python"
    }
  },
  "cells": [
    {
      "cell_type": "markdown",
      "metadata": {
        "id": "view-in-github",
        "colab_type": "text"
      },
      "source": [
        "<a href=\"https://colab.research.google.com/github/philsaurabh/Working-with-images/blob/main/Folderwise_Video_format_conversion.ipynb\" target=\"_parent\"><img src=\"https://colab.research.google.com/assets/colab-badge.svg\" alt=\"Open In Colab\"/></a>"
      ]
    },
    {
      "cell_type": "code",
      "execution_count": null,
      "metadata": {
        "id": "Tv6s11D57HE9"
      },
      "outputs": [],
      "source": [
        "from Katna.video import Video\n",
        "import time\n",
        "import cv2\n",
        "from PIL import Image\n",
        "import matplotlib.pyplot as plt\n",
        "from Katna.video import Video\n",
        "import moviepy.editor as moviepy\n",
        "from Katna.writer import KeyFrameDiskWriter\n",
        "import os\n",
        "import glob\n",
        "if __name__ == \"__main__\":\n",
        "  count=0    \n",
        "  files =glob.glob('E:\\\\dataset\\\\NON_CCTV_DATA\\\\training\\\\*.mpeg')#avi, mpeg\n",
        "  for file in files:\n",
        "    clip = moviepy.VideoFileClip(file)\n",
        "    clip.write_videofile(\"trfign\"+str(count)+\".mp4\")\n",
        "    count=count+1\n",
        "    "
      ]
    }
  ]
}